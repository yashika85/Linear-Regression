{
 "cells": [
  {
   "cell_type": "code",
   "execution_count": 21,
   "id": "62eed6b8-2bb5-4d06-86ec-3955dae25cdd",
   "metadata": {},
   "outputs": [],
   "source": [
    "# Step 1: Import libraries\n",
    "\n",
    "import pandas as pd\n",
    "import numpy as np\n",
    "import matplotlib.pyplot as plt\n",
    "from sklearn.model_selection import train_test_split\n",
    "from sklearn.linear_model import LinearRegression\n",
    "from sklearn.metrics import mean_absolute_error, mean_squared_error, r2_score"
   ]
  },
  {
   "cell_type": "code",
   "execution_count": 22,
   "id": "6bc1afb9-5848-4d64-9d67-3d112a0bb2b1",
   "metadata": {},
   "outputs": [
    {
     "data": {
      "text/html": [
       "<div>\n",
       "<style scoped>\n",
       "    .dataframe tbody tr th:only-of-type {\n",
       "        vertical-align: middle;\n",
       "    }\n",
       "\n",
       "    .dataframe tbody tr th {\n",
       "        vertical-align: top;\n",
       "    }\n",
       "\n",
       "    .dataframe thead th {\n",
       "        text-align: right;\n",
       "    }\n",
       "</style>\n",
       "<table border=\"1\" class=\"dataframe\">\n",
       "  <thead>\n",
       "    <tr style=\"text-align: right;\">\n",
       "      <th></th>\n",
       "      <th>TV</th>\n",
       "      <th>Radio</th>\n",
       "      <th>Newspaper</th>\n",
       "      <th>Sales</th>\n",
       "    </tr>\n",
       "  </thead>\n",
       "  <tbody>\n",
       "    <tr>\n",
       "      <th>0</th>\n",
       "      <td>112.36</td>\n",
       "      <td>32.10</td>\n",
       "      <td>12.37</td>\n",
       "      <td>448.48</td>\n",
       "    </tr>\n",
       "    <tr>\n",
       "      <th>1</th>\n",
       "      <td>285.21</td>\n",
       "      <td>4.21</td>\n",
       "      <td>108.31</td>\n",
       "      <td>796.00</td>\n",
       "    </tr>\n",
       "    <tr>\n",
       "      <th>2</th>\n",
       "      <td>219.60</td>\n",
       "      <td>8.08</td>\n",
       "      <td>60.63</td>\n",
       "      <td>619.48</td>\n",
       "    </tr>\n",
       "    <tr>\n",
       "      <th>3</th>\n",
       "      <td>179.60</td>\n",
       "      <td>44.93</td>\n",
       "      <td>99.17</td>\n",
       "      <td>772.26</td>\n",
       "    </tr>\n",
       "    <tr>\n",
       "      <th>4</th>\n",
       "      <td>46.81</td>\n",
       "      <td>30.32</td>\n",
       "      <td>38.41</td>\n",
       "      <td>347.30</td>\n",
       "    </tr>\n",
       "    <tr>\n",
       "      <th>...</th>\n",
       "      <td>...</td>\n",
       "      <td>...</td>\n",
       "      <td>...</td>\n",
       "      <td>...</td>\n",
       "    </tr>\n",
       "    <tr>\n",
       "      <th>195</th>\n",
       "      <td>104.76</td>\n",
       "      <td>46.54</td>\n",
       "      <td>56.88</td>\n",
       "      <td>584.50</td>\n",
       "    </tr>\n",
       "    <tr>\n",
       "      <th>196</th>\n",
       "      <td>217.79</td>\n",
       "      <td>42.92</td>\n",
       "      <td>80.11</td>\n",
       "      <td>838.84</td>\n",
       "    </tr>\n",
       "    <tr>\n",
       "      <th>197</th>\n",
       "      <td>269.13</td>\n",
       "      <td>21.45</td>\n",
       "      <td>20.68</td>\n",
       "      <td>737.80</td>\n",
       "    </tr>\n",
       "    <tr>\n",
       "      <th>198</th>\n",
       "      <td>266.13</td>\n",
       "      <td>37.54</td>\n",
       "      <td>23.07</td>\n",
       "      <td>801.88</td>\n",
       "    </tr>\n",
       "    <tr>\n",
       "      <th>199</th>\n",
       "      <td>233.96</td>\n",
       "      <td>37.73</td>\n",
       "      <td>4.90</td>\n",
       "      <td>702.85</td>\n",
       "    </tr>\n",
       "  </tbody>\n",
       "</table>\n",
       "<p>200 rows × 4 columns</p>\n",
       "</div>"
      ],
      "text/plain": [
       "         TV  Radio  Newspaper   Sales\n",
       "0    112.36  32.10      12.37  448.48\n",
       "1    285.21   4.21     108.31  796.00\n",
       "2    219.60   8.08      60.63  619.48\n",
       "3    179.60  44.93      99.17  772.26\n",
       "4     46.81  30.32      38.41  347.30\n",
       "..      ...    ...        ...     ...\n",
       "195  104.76  46.54      56.88  584.50\n",
       "196  217.79  42.92      80.11  838.84\n",
       "197  269.13  21.45      20.68  737.80\n",
       "198  266.13  37.54      23.07  801.88\n",
       "199  233.96  37.73       4.90  702.85\n",
       "\n",
       "[200 rows x 4 columns]"
      ]
     },
     "execution_count": 22,
     "metadata": {},
     "output_type": "execute_result"
    }
   ],
   "source": [
    "#Step 2: Load and preview dataset\n",
    "\n",
    "df = pd.read_csv(r\"C:\\Users\\ABC\\Downloads\\advertising_sales.csv\")\n",
    "df"
   ]
  },
  {
   "cell_type": "code",
   "execution_count": 23,
   "id": "25b33229-e147-474b-bf4b-3f386bb5e8c9",
   "metadata": {},
   "outputs": [
    {
     "data": {
      "text/html": [
       "<div>\n",
       "<style scoped>\n",
       "    .dataframe tbody tr th:only-of-type {\n",
       "        vertical-align: middle;\n",
       "    }\n",
       "\n",
       "    .dataframe tbody tr th {\n",
       "        vertical-align: top;\n",
       "    }\n",
       "\n",
       "    .dataframe thead th {\n",
       "        text-align: right;\n",
       "    }\n",
       "</style>\n",
       "<table border=\"1\" class=\"dataframe\">\n",
       "  <thead>\n",
       "    <tr style=\"text-align: right;\">\n",
       "      <th></th>\n",
       "      <th>TV</th>\n",
       "      <th>Radio</th>\n",
       "      <th>Newspaper</th>\n",
       "      <th>Sales</th>\n",
       "    </tr>\n",
       "  </thead>\n",
       "  <tbody>\n",
       "    <tr>\n",
       "      <th>0</th>\n",
       "      <td>112.36</td>\n",
       "      <td>32.10</td>\n",
       "      <td>12.37</td>\n",
       "      <td>448.48</td>\n",
       "    </tr>\n",
       "    <tr>\n",
       "      <th>1</th>\n",
       "      <td>285.21</td>\n",
       "      <td>4.21</td>\n",
       "      <td>108.31</td>\n",
       "      <td>796.00</td>\n",
       "    </tr>\n",
       "    <tr>\n",
       "      <th>2</th>\n",
       "      <td>219.60</td>\n",
       "      <td>8.08</td>\n",
       "      <td>60.63</td>\n",
       "      <td>619.48</td>\n",
       "    </tr>\n",
       "    <tr>\n",
       "      <th>3</th>\n",
       "      <td>179.60</td>\n",
       "      <td>44.93</td>\n",
       "      <td>99.17</td>\n",
       "      <td>772.26</td>\n",
       "    </tr>\n",
       "    <tr>\n",
       "      <th>4</th>\n",
       "      <td>46.81</td>\n",
       "      <td>30.32</td>\n",
       "      <td>38.41</td>\n",
       "      <td>347.30</td>\n",
       "    </tr>\n",
       "  </tbody>\n",
       "</table>\n",
       "</div>"
      ],
      "text/plain": [
       "       TV  Radio  Newspaper   Sales\n",
       "0  112.36  32.10      12.37  448.48\n",
       "1  285.21   4.21     108.31  796.00\n",
       "2  219.60   8.08      60.63  619.48\n",
       "3  179.60  44.93      99.17  772.26\n",
       "4   46.81  30.32      38.41  347.30"
      ]
     },
     "execution_count": 23,
     "metadata": {},
     "output_type": "execute_result"
    }
   ],
   "source": [
    "df.head()"
   ]
  },
  {
   "cell_type": "code",
   "execution_count": 24,
   "id": "ef145d13-3688-4c99-a692-5cad8b90697e",
   "metadata": {},
   "outputs": [
    {
     "name": "stdout",
     "output_type": "stream",
     "text": [
      "<class 'pandas.core.frame.DataFrame'>\n",
      "RangeIndex: 200 entries, 0 to 199\n",
      "Data columns (total 4 columns):\n",
      " #   Column     Non-Null Count  Dtype  \n",
      "---  ------     --------------  -----  \n",
      " 0   TV         200 non-null    float64\n",
      " 1   Radio      200 non-null    float64\n",
      " 2   Newspaper  200 non-null    float64\n",
      " 3   Sales      200 non-null    float64\n",
      "dtypes: float64(4)\n",
      "memory usage: 6.4 KB\n",
      "None\n",
      "\n",
      "Missing values:\n",
      " TV           0\n",
      "Radio        0\n",
      "Newspaper    0\n",
      "Sales        0\n",
      "dtype: int64\n"
     ]
    }
   ],
   "source": [
    "# Optional: Check info and nulls\n",
    "\n",
    "print(df.info())\n",
    "print(\"\\nMissing values:\\n\", df.isnull().sum())"
   ]
  },
  {
   "cell_type": "code",
   "execution_count": 25,
   "id": "68c603a7-43ff-4946-964a-6ad083c579e3",
   "metadata": {},
   "outputs": [],
   "source": [
    "#Step 3: Simple Linear Regression\n",
    "\n",
    "X = df[[\"TV\"]] \n",
    "y = df[\"Sales\"]  \n",
    "\n",
    "X_train, X_test, y_train, y_test = train_test_split(\n",
    "    X, y, test_size=0.2, random_state=42\n",
    ")\n",
    "\n",
    "model_simple = LinearRegression()\n",
    "model_simple.fit(X_train, y_train)\n",
    "\n",
    "y_pred = model_simple.predict(X_test)"
   ]
  },
  {
   "cell_type": "code",
   "execution_count": 26,
   "id": "233185f1-4f2f-4fc6-b955-86950aa3aa10",
   "metadata": {},
   "outputs": [
    {
     "name": "stdout",
     "output_type": "stream",
     "text": [
      "📊 Simple Linear Regression Results:\n",
      "MAE : 64.9561914748291\n",
      "MSE : 6432.556404747033\n",
      "RMSE: 80.20321941634907\n",
      "R²  : 0.834274261254955\n",
      "\n",
      "Intercept (b₀): 279.9224785586511\n",
      "Slope (b₁): 1.9236101124677918\n"
     ]
    }
   ],
   "source": [
    "#Step 4: Evaluation - Simple LR\n",
    "\n",
    "print(\"📊 Simple Linear Regression Results:\")\n",
    "print(\"MAE :\", mean_absolute_error(y_test, y_pred))\n",
    "print(\"MSE :\", mean_squared_error(y_test, y_pred))\n",
    "print(\"RMSE:\", np.sqrt(mean_squared_error(y_test, y_pred)))\n",
    "print(\"R²  :\", r2_score(y_test, y_pred))\n",
    "\n",
    "print(\"\\nIntercept (b₀):\", model_simple.intercept_)\n",
    "print(\"Slope (b₁):\", model_simple.coef_[0])"
   ]
  },
  {
   "cell_type": "code",
   "execution_count": 27,
   "id": "91b85ffa-495c-4d2d-a637-9d7acaa3496b",
   "metadata": {},
   "outputs": [
    {
     "data": {
      "image/png": "[encoded data removed]",
      "text/plain": [
       "<Figure size 640x480 with 1 Axes>"
      ]
     },
     "metadata": {},
     "output_type": "display_data"
    }
   ],
   "source": [
    "#Step 5: Plot regression line\n",
    "\n",
    "plt.scatter(X_test, y_test, label=\"Actual\")\n",
    "plt.plot(X_test, y_pred, color=\"red\", label=\"Prediction Line\")\n",
    "plt.xlabel(\"TV Ad Spend\")\n",
    "plt.ylabel(\"Sales\")\n",
    "plt.title(\"Simple Linear Regression: TV vs Sales\")\n",
    "plt.legend()\n",
    "plt.grid(True)\n",
    "plt.show()"
   ]
  },
  {
   "cell_type": "code",
   "execution_count": 28,
   "id": "0874a767-d2e3-4703-89c6-0874042c4a97",
   "metadata": {},
   "outputs": [],
   "source": [
    "#Step 6: Multiple Linear Regression\n",
    "\n",
    "features = [\"TV\", \"Radio\", \"Newspaper\"]\n",
    "X_multi = df[features]\n",
    "y_multi = df[\"Sales\"]\n",
    "\n",
    "X_train, X_test, y_train, y_test = train_test_split(\n",
    "    X_multi, y_multi, test_size=0.2, random_state=42\n",
    ")\n",
    "\n",
    "model_multi = LinearRegression()\n",
    "model_multi.fit(X_train, y_train)\n",
    "\n",
    "y_pred_multi = model_multi.predict(X_test)"
   ]
  },
  {
   "cell_type": "code",
   "execution_count": 29,
   "id": "013df61f-ad88-4811-b0e0-5acbd00582ae",
   "metadata": {},
   "outputs": [
    {
     "name": "stdout",
     "output_type": "stream",
     "text": [
      "📊 Multiple Linear Regression Results:\n",
      "MAE : 7.04840355494521\n",
      "MSE : 69.03190217295699\n",
      "RMSE: 8.30854392616161\n",
      "R²  : 0.9982214904518916\n",
      "\n",
      "Intercept: 49.12101008540026\n",
      "Coefficients:\n",
      "TV: 1.995\n",
      "Radio: 4.961\n",
      "Newspaper: 1.532\n"
     ]
    }
   ],
   "source": [
    "#Step 7: Evaluate multiple regression\n",
    "\n",
    "print(\"📊 Multiple Linear Regression Results:\")\n",
    "print(\"MAE :\", mean_absolute_error(y_test, y_pred_multi))\n",
    "print(\"MSE :\", mean_squared_error(y_test, y_pred_multi))\n",
    "print(\"RMSE:\", np.sqrt(mean_squared_error(y_test, y_pred_multi)))\n",
    "print(\"R²  :\", r2_score(y_test, y_pred_multi))\n",
    "\n",
    "print(\"\\nIntercept:\", model_multi.intercept_)\n",
    "print(\"Coefficients:\")\n",
    "for feat, coef in zip(features, model_multi.coef_):\n",
    "    print(f\"{feat}: {coef:.3f}\")"
   ]
  },
  {
   "cell_type": "code",
   "execution_count": 30,
   "id": "b9a98ee3-8710-4941-a107-350f71328d99",
   "metadata": {},
   "outputs": [
    {
     "data": {
      "text/html": [
       "<div>\n",
       "<style scoped>\n",
       "    .dataframe tbody tr th:only-of-type {\n",
       "        vertical-align: middle;\n",
       "    }\n",
       "\n",
       "    .dataframe tbody tr th {\n",
       "        vertical-align: top;\n",
       "    }\n",
       "\n",
       "    .dataframe thead th {\n",
       "        text-align: right;\n",
       "    }\n",
       "</style>\n",
       "<table border=\"1\" class=\"dataframe\">\n",
       "  <thead>\n",
       "    <tr style=\"text-align: right;\">\n",
       "      <th></th>\n",
       "      <th>Model</th>\n",
       "      <th>R²</th>\n",
       "      <th>RMSE</th>\n",
       "    </tr>\n",
       "  </thead>\n",
       "  <tbody>\n",
       "    <tr>\n",
       "      <th>0</th>\n",
       "      <td>Simple (TV)</td>\n",
       "      <td>0.834274</td>\n",
       "      <td>80.203219</td>\n",
       "    </tr>\n",
       "    <tr>\n",
       "      <th>1</th>\n",
       "      <td>Multiple (TV+Radio+Newspaper)</td>\n",
       "      <td>0.998221</td>\n",
       "      <td>8.308544</td>\n",
       "    </tr>\n",
       "  </tbody>\n",
       "</table>\n",
       "</div>"
      ],
      "text/plain": [
       "                           Model        R²       RMSE\n",
       "0                    Simple (TV)  0.834274  80.203219\n",
       "1  Multiple (TV+Radio+Newspaper)  0.998221   8.308544"
      ]
     },
     "execution_count": 30,
     "metadata": {},
     "output_type": "execute_result"
    }
   ],
   "source": [
    "# Compare both models\n",
    "\n",
    "results = pd.DataFrame({\n",
    "    \"Model\": [\"Simple (TV)\", \"Multiple (TV+Radio+Newspaper)\"],\n",
    "    \"R²\": [r2_score(y_test, y_pred), r2_score(y_test, y_pred_multi)],\n",
    "    \"RMSE\": [np.sqrt(mean_squared_error(y_test, y_pred)), np.sqrt(mean_squared_error(y_test, y_pred_multi))]\n",
    "})\n",
    "results"
   ]
  }
 ],
 "metadata": {
  "kernelspec": {
   "display_name": "Python 3 (ipykernel)",
   "language": "python",
   "name": "python3"
  },
  "language_info": {
   "codemirror_mode": {
    "name": "ipython",
    "version": 3
   },
   "file_extension": ".py",
   "mimetype": "text/x-python",
   "name": "python",
   "nbconvert_exporter": "python",
   "pygments_lexer": "ipython3",
   "version": "3.12.7"
  }
 },
 "nbformat": 4,
 "nbformat_minor": 5
}
